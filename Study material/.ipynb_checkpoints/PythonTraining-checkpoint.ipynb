{
 "cells": [
  {
   "cell_type": "markdown",
   "id": "c7f9e0af",
   "metadata": {},
   "source": [
    "#                          Functions & Functions Programming"
   ]
  },
  {
   "cell_type": "markdown",
   "id": "fdce8c94-b793-4550-b3e4-374443211c9e",
   "metadata": {},
   "source": [
    "## Lambda Forms\n"
   ]
  },
  {
   "cell_type": "markdown",
   "id": "29ef5e3e-39fb-421d-9775-f9ba9f78f242",
   "metadata": {},
   "source": [
    "Lambda functions in Python are small, anonymous functions defined with the lambda keyword. They can have any number of arguments but only one expression. Lambda functions are often used for short, throwaway functions that are not going to be reused elsewhere.\n",
    "\n",
    "#### syntax of lambda function\n",
    "lambda arguments: expression\n"
   ]
  },
  {
   "cell_type": "code",
   "execution_count": 3,
   "id": "79bbfdad-707d-44ee-9855-fcf84153c931",
   "metadata": {},
   "outputs": [
    {
     "name": "stdout",
     "output_type": "stream",
     "text": [
      "15\n"
     ]
    }
   ],
   "source": [
    "add_ten = lambda x: x + 10\n",
    "\n",
    "print(add_ten(5))\n"
   ]
  },
  {
   "cell_type": "code",
   "execution_count": 2,
   "id": "eb8efb7b-99d6-4359-8b4d-46a28b338946",
   "metadata": {},
   "outputs": [
    {
     "name": "stdout",
     "output_type": "stream",
     "text": [
      "7\n"
     ]
    }
   ],
   "source": [
    "add = lambda x, y: x + y\n",
    "\n",
    "print(add(3, 4))\n"
   ]
  },
  {
   "cell_type": "code",
   "execution_count": 3,
   "id": "443c8e7d-dcd0-4e6e-ac5c-d2bb1ebb35f7",
   "metadata": {},
   "outputs": [
    {
     "name": "stdout",
     "output_type": "stream",
     "text": [
      "[1, 4, 9, 16, 25]\n"
     ]
    }
   ],
   "source": [
    "numbers = [1, 2, 3, 4, 5]\n",
    "\n",
    "squared_numbers = map(lambda x: x ** 2, numbers)\n",
    "\n",
    "print(list(squared_numbers))"
   ]
  },
  {
   "cell_type": "markdown",
   "id": "d30ceb7b-d299-4493-81e4-d569b8d33958",
   "metadata": {},
   "source": [
    "# list comprehension\n",
    " List comprehensions allow you to generate lists by specifying an expression and an optional condition, all in a single line of code.\n",
    "#### syntax : [expression for item in iterable if condition]\n"
   ]
  },
  {
   "cell_type": "code",
   "execution_count": 2,
   "id": "4064c435-ccd1-4839-84a9-1383050f59dd",
   "metadata": {},
   "outputs": [
    {
     "name": "stdout",
     "output_type": "stream",
     "text": [
      "['HELLO', 'WORLD', 'PYTHON', 'LIST']\n"
     ]
    }
   ],
   "source": [
    "\n",
    "words = [\"hello\", \"world\", \"python\", \"list\"]\n",
    "uppercase_words = [word.upper() for word in words]\n",
    "print(uppercase_words)\n"
   ]
  },
  {
   "cell_type": "code",
   "execution_count": 3,
   "id": "66f27632-1511-427e-8355-6e7853aaa57b",
   "metadata": {},
   "outputs": [
    {
     "name": "stdout",
     "output_type": "stream",
     "text": [
      "[0, 1, 4, 9, 16, 25, 36, 49, 64, 81]\n"
     ]
    }
   ],
   "source": [
    "squares = [x**2 for x in range(10)]\n",
    "print(squares) \n"
   ]
  },
  {
   "cell_type": "markdown",
   "id": "d1490e2a-77d5-40b9-a1b6-e0a56f4adfe6",
   "metadata": {},
   "source": [
    "# Isalpha\n",
    "The isalpha() method in Python is a string method that checks if all the characters in a string are alphabetic. It returns True if all characters are alphabetic and there is at least one character, otherwise, it returns False."
   ]
  },
  {
   "cell_type": "code",
   "execution_count": 5,
   "id": "a6be0f81-5424-45a3-9748-eb85e9f09f26",
   "metadata": {},
   "outputs": [
    {
     "name": "stdout",
     "output_type": "stream",
     "text": [
      "True\n",
      "True\n",
      "False\n",
      "False\n"
     ]
    }
   ],
   "source": [
    "\n",
    "\n",
    "print(\"Hello\".isalpha())  # Output: True\n",
    "\n",
    "# Greek alphabetic characters\n",
    "print(\"Αθήνα\".isalpha())  # Output: True\n",
    "\n",
    "# Contains a non-alphabetic character (space)\n",
    "print(\"Hello World\".isalpha())  # Output: False\n",
    "\n",
    "# Contains a non-alphabetic character (number)\n",
    "print(\"123\".isalpha())  # Output: False\n"
   ]
  },
  {
   "cell_type": "markdown",
   "id": "3a50c1aa-457e-485a-9baa-9ceda5f24bd7",
   "metadata": {},
   "source": [
    "# Map\n",
    "The map() function in Python is a built-in function that applies a given function to all the items in an input iterable (e.g., list, tuple) and returns a map object (which is an iterator) of the results.\n",
    "The map() function takes two primary arguments: a function and an iterable. Optionally, you can provide multiple iterables if the function takes more than one argument."
   ]
  },
  {
   "cell_type": "code",
   "execution_count": 13,
   "id": "78913c75-884d-4935-bf39-7608933aa79c",
   "metadata": {},
   "outputs": [
    {
     "name": "stdout",
     "output_type": "stream",
     "text": [
      "['appleorange', 'bananalemon', 'cherrypineapple']\n"
     ]
    }
   ],
   "source": [
    "def myfunc(a, b):\n",
    "  return a + b\n",
    "\n",
    "x = map(myfunc, ('apple', 'banana', 'cherry'), ('orange', 'lemon', 'pineapple'))\n",
    "\n",
    "\n",
    "print(list(x))"
   ]
  },
  {
   "cell_type": "code",
   "execution_count": 14,
   "id": "7c0a4365-5ab2-4f2e-888f-6ab5d429bc70",
   "metadata": {},
   "outputs": [
    {
     "name": "stdout",
     "output_type": "stream",
     "text": [
      "[1, 4, 9, 16, 25]\n"
     ]
    }
   ],
   "source": [
    "# Step 1: Define the function to be applied\n",
    "def square(number):\n",
    "    return number * number\n",
    "\n",
    "# Step 2: Create a list of numbers\n",
    "numbers = [1, 2, 3, 4, 5]\n",
    "\n",
    "# Step 3: Use map to apply the 'square' function to each item in 'numbers'\n",
    "squared_numbers = map(square, numbers)\n",
    "\n",
    "# Step 4: Convert the map object to a list and print it\n",
    "squared_numbers_list = list(squared_numbers)\n",
    "print(squared_numbers_list)"
   ]
  },
  {
   "cell_type": "code",
   "execution_count": null,
   "id": "e380bb52",
   "metadata": {},
   "outputs": [],
   "source": [
    "numbers = [1, 2, 3, 4, 5]\n",
    "squared_numbers = map(lambda x: x * x, numbers)\n",
    "\n",
    "print(list(squared_numbers)) "
   ]
  },
  {
   "cell_type": "markdown",
   "id": "3a18c1aa",
   "metadata": {},
   "source": [
    "# Zip "
   ]
  },
  {
   "cell_type": "markdown",
   "id": "6fd2b4b2",
   "metadata": {},
   "source": [
    "##### The zip() function in Python is a built-in function that allows you to combine multiple iterables (e.g., lists, tuples) element-wise, producing tuples of paired elements.\n",
    "##### The zip() function takes one or more iterables as arguments and returns an iterator of tuples. Each tuple contains elements from the provided iterables, grouped by their respective positions."
   ]
  },
  {
   "cell_type": "code",
   "execution_count": null,
   "id": "78e34396",
   "metadata": {},
   "outputs": [],
   "source": [
    "list1 = [1, 2, 3]\n",
    "list2 = ['a', 'b', 'c']\n",
    "zipped = zip(list1, list2)\n",
    "\n",
    "print(list(zipped))  # Output: [(1, 'a'), (2, 'b'), (3, 'c')]"
   ]
  },
  {
   "cell_type": "code",
   "execution_count": null,
   "id": "eea844c7",
   "metadata": {},
   "outputs": [],
   "source": [
    "list1 = [1, 2, 3]\n",
    "list2 = ['a', 'b']\n",
    "zipped = zip(list1, list2)\n",
    "\n",
    "print(list(zipped))  # Output: [(1, 'a'), (2, 'b')]"
   ]
  },
  {
   "cell_type": "markdown",
   "id": "3cfc1667-0552-4766-b010-6b8ab009b148",
   "metadata": {},
   "source": [
    "# *(args) and **(kwargs)\n",
    "Python 3 provides more modern and straightforward ways to achieve the same functionality using the * (for positional arguments) and ** (for keyword arguments) unpacking operators."
   ]
  },
  {
   "cell_type": "code",
   "execution_count": null,
   "id": "ec7bad53",
   "metadata": {},
   "outputs": [],
   "source": [
    "# Using *args for Positional Arguments\n",
    "# If you have a sequence of positional arguments, you can use the * operator to unpack them.\n",
    "\n",
    "def add(x, y):\n",
    "    return x + y\n",
    "\n",
    "args = (3, 5)\n",
    "result = add(*args)\n",
    "print(result)  "
   ]
  },
  {
   "cell_type": "code",
   "execution_count": null,
   "id": "2f5cf8f0",
   "metadata": {},
   "outputs": [],
   "source": [
    "# Using **kwargs for Keyword Arguments\n",
    "# If you have a dictionary of keyword arguments, you can use the ** operator to unpack them.\n",
    "\n",
    "def greet(name, greeting):\n",
    "    return f\"{greeting}, {name}!\"\n",
    "\n",
    "kwargs = {'name': 'Alice', 'greeting': 'Hello'}\n",
    "result = greet(**kwargs)\n",
    "print(result)  # Output: Hello, Alice!"
   ]
  },
  {
   "cell_type": "markdown",
   "id": "1c0e8980",
   "metadata": {},
   "source": [
    "# Applying Functions in a Functional Programming Context"
   ]
  },
  {
   "cell_type": "markdown",
   "id": "bde56286-0c0f-4391-85ef-f614857af3ff",
   "metadata": {},
   "source": [
    "## Reduce"
   ]
  },
  {
   "cell_type": "code",
   "execution_count": 18,
   "id": "d4538a62-5074-4648-9478-d9f05cabaf36",
   "metadata": {},
   "outputs": [
    {
     "name": "stdout",
     "output_type": "stream",
     "text": [
      "15\n"
     ]
    }
   ],
   "source": [
    "from functools import reduce\n",
    "# Step 1: Define the function to be applied\n",
    "def add(x, y):\n",
    "    return x + y\n",
    "\n",
    "# Step 2: Create a list of numbers\n",
    "numbers = [1, 2, 3, 4, 5]\n",
    "\n",
    "# Step 3: Use reduce to apply the 'add' function cumulatively to the list of numbers\n",
    "sum_of_numbers = reduce(add, numbers)\n",
    "\n",
    "print(sum_of_numbers)"
   ]
  },
  {
   "cell_type": "markdown",
   "id": "e39a111c-fb2a-4e3f-a348-59aa9f56f875",
   "metadata": {},
   "source": [
    "## filter\n",
    "The filter() function in Python is used to construct an iterator from elements of an iterable for which a function returns true. This function allows you to filter out elements from an iterable based on a condition defined by a function."
   ]
  },
  {
   "cell_type": "code",
   "execution_count": 19,
   "id": "1ca67278-84e9-457e-8007-debcef52d527",
   "metadata": {},
   "outputs": [
    {
     "name": "stdout",
     "output_type": "stream",
     "text": [
      "[2, 4, 6, 8, 10]\n"
     ]
    }
   ],
   "source": [
    "# Step 1: Define the filtering function\n",
    "def is_even(number):\n",
    "    return number % 2 == 0\n",
    "\n",
    "# Step 2: Create a list of numbers\n",
    "numbers = [1, 2, 3, 4, 5, 6, 7, 8, 9, 10]\n",
    "\n",
    "# Step 3: Use filter to apply the function to the list\n",
    "even_numbers = filter(is_even, numbers)\n",
    "\n",
    "# Step 4: Convert the filter object to a list and print it\n",
    "even_numbers_list = list(even_numbers)\n",
    "print(even_numbers_list)  # Output: [2, 4, 6, 8, 10]\n"
   ]
  },
  {
   "cell_type": "code",
   "execution_count": 20,
   "id": "3cd1a226-a52a-431c-8a60-8423bd9f39ac",
   "metadata": {},
   "outputs": [
    {
     "name": "stdout",
     "output_type": "stream",
     "text": [
      "[1, 3, 5, 7, 9]\n"
     ]
    }
   ],
   "source": [
    "# Using a lambda function to filter odd numbers\n",
    "odd_numbers = filter(lambda x: x % 2 != 0, numbers)\n",
    "\n",
    "# Convert the filter object to a list and print it\n",
    "odd_numbers_list = list(odd_numbers)\n",
    "print(odd_numbers_list)  # Output: [1, 3, 5, 7, 9]"
   ]
  },
  {
   "cell_type": "markdown",
   "id": "bc8e4a9e-e5a9-46d1-9b64-f7bfeec5c5c0",
   "metadata": {},
   "source": [
    "# File Handling\n",
    "File handling in Python allows you to work with files on your computer. You can create, read, write, append, and manipulate files using Python's built-in file handling methods and functions.\n",
    "## Creating and Opening a File\n",
    "\n",
    "To work with a file in Python, you first need to open it using the open() function. This function returns a file object, which is used to interact with the file.\n",
    "The first argument to open() is the file path, and the second argument is the mode in which to open the file ('r' for reading, 'w' for writing, 'a' for appending, 'r+' for reading and writing, etc.).\n"
   ]
  },
  {
   "cell_type": "code",
   "execution_count": 22,
   "id": "dc5cd4e5-a759-456d-beaa-55b44b61b1f0",
   "metadata": {},
   "outputs": [],
   "source": [
    "# Step 1: Open a file in write mode\n",
    "file = open('example.txt', 'w')\n",
    "\n",
    "# Step 2: Write some text to the file\n",
    "file.write('Hello, World!\\n')\n",
    "file.write('This is a new file created using Python.\\n')\n",
    "\n",
    "# Step 3: Close the file\n",
    "file.close()\n"
   ]
  },
  {
   "cell_type": "markdown",
   "id": "479ffe08",
   "metadata": {},
   "source": [
    "### Reading from a File\n",
    "You can read the contents of a file using various methods like read(), readline(), or readlines()."
   ]
  },
  {
   "cell_type": "code",
   "execution_count": null,
   "id": "2c5cf004",
   "metadata": {},
   "outputs": [],
   "source": [
    "# Read the entire content of the file\n",
    "content = file.read()\n",
    "print(content)\n",
    "\n",
    "# Close the file when done\n",
    "file.close()"
   ]
  },
  {
   "cell_type": "markdown",
   "id": "555f8ea8",
   "metadata": {},
   "source": [
    "### Appending to a File\n",
    "To append data to the end of a file, open it in append mode ('a') and then use the write() method."
   ]
  },
  {
   "cell_type": "code",
   "execution_count": null,
   "id": "71b14f74",
   "metadata": {},
   "outputs": [],
   "source": [
    "# Open a file in append mode\n",
    "file = open('example.txt', 'a')\n",
    "\n",
    "# Append to the file\n",
    "file.write('\\nThis is another line.')\n",
    "\n",
    "# Close the file when done\n",
    "file.close()"
   ]
  },
  {
   "cell_type": "markdown",
   "id": "538f4d46",
   "metadata": {},
   "source": [
    "### Using with Statement\n",
    "It's a good practice to use the with statement when working with files. It automatically closes the file when you're done with it, even if an error occurs."
   ]
  },
  {
   "cell_type": "code",
   "execution_count": null,
   "id": "6e4b26d5",
   "metadata": {},
   "outputs": [],
   "source": [
    "with open('example.txt', 'r') as file:\n",
    "    content = file.read()\n",
    "    print(content)"
   ]
  },
  {
   "cell_type": "code",
   "execution_count": 23,
   "id": "8841dfc9-6440-4db5-8ee8-9ef1eeab11c7",
   "metadata": {},
   "outputs": [
    {
     "name": "stdout",
     "output_type": "stream",
     "text": [
      "Hello, World!\n",
      "This is a new file created using Python.\n",
      "\n"
     ]
    }
   ],
   "source": [
    "# Creating and writing to a file using with statement\n",
    "with open('example.txt', 'w') as file:\n",
    "    file.write('Hello, World!\\n')\n",
    "    file.write('This is a new file created using Python.\\n')\n",
    "\n",
    "# Reading from a file using with statement\n",
    "with open('example.txt', 'r') as file:\n",
    "    content = file.read()\n",
    "    print(content)\n",
    "\n",
    "# Appending to a file using with statement\n",
    "with open('example.txt', 'a') as file:\n",
    "    file.write('Appending a new line to the file.\\n')\n"
   ]
  },
  {
   "cell_type": "markdown",
   "id": "5c4b079d-c941-4118-8e5c-b0d453c31160",
   "metadata": {},
   "source": [
    "# Handle csv file"
   ]
  },
  {
   "cell_type": "code",
   "execution_count": 24,
   "id": "4ebdc16c-c50b-4a53-9f57-e2edeae67505",
   "metadata": {},
   "outputs": [],
   "source": [
    "import csv\n",
    "\n",
    "# Data to be written to the CSV file\n",
    "data = [\n",
    "    {'Name': 'John', 'Age': 30, 'City': 'New York'},\n",
    "    {'Name': 'Alice', 'Age': 25, 'City': 'London'},\n",
    "    {'Name': 'Bob', 'Age': 35, 'City': 'Paris'}\n",
    "]\n",
    "\n",
    "# Fieldnames (column names) for the CSV file\n",
    "fieldnames = ['Name', 'Age', 'City']\n",
    "\n",
    "# Open the CSV file in write mode\n",
    "with open('data.csv', 'w', newline='') as file:\n",
    "    # Create a DictWriter object\n",
    "    csv_writer = csv.DictWriter(file, fieldnames=fieldnames)\n",
    "    \n",
    "    # Write the header (field names) to the CSV file\n",
    "    csv_writer.writeheader()\n",
    "    \n",
    "    # Write the data to the CSV file\n",
    "    csv_writer.writerows(data)\n"
   ]
  },
  {
   "cell_type": "markdown",
   "id": "61931dbd-5980-4636-8d37-1aa9a7f4d4bf",
   "metadata": {},
   "source": [
    "# Reading csv file"
   ]
  },
  {
   "cell_type": "code",
   "execution_count": null,
   "id": "287876c5-d643-4bca-a28c-149eb7e9732f",
   "metadata": {},
   "outputs": [],
   "source": [
    "import csv\n",
    "\n",
    "# Open the CSV file in read mode\n",
    "with open('data.csv', 'r') as file:\n",
    "    # Create a CSV reader object\n",
    "    csv_reader = csv.reader(file)\n",
    "    \n",
    "    # Iterate over each row in the CSV file\n",
    "    for row in csv_reader:\n",
    "        print(row)\n"
   ]
  },
  {
   "cell_type": "markdown",
   "id": "e50dea5f-852a-4fe4-9368-e5f79f42f0b7",
   "metadata": {},
   "source": [
    "# Writing csv file "
   ]
  },
  {
   "cell_type": "code",
   "execution_count": 25,
   "id": "c9abf3cf-ee4d-4333-8b5f-7666dcee15cf",
   "metadata": {},
   "outputs": [],
   "source": [
    "import csv\n",
    "\n",
    "# Data to be written to the CSV file\n",
    "data = [\n",
    "    ['Name', 'Age', 'City'],\n",
    "    ['John', 30, 'New York'],\n",
    "    ['Alice', 25, 'London'],\n",
    "    ['Bob', 35, 'Paris']\n",
    "]\n",
    "\n",
    "# Open the CSV file in write mode\n",
    "with open('data.csv', 'w', newline='') as file:\n",
    "    # Create a CSV writer object\n",
    "    csv_writer = csv.writer(file)\n",
    "    \n",
    "    # Write the data to the CSV file\n",
    "    csv_writer.writerows(data)\n"
   ]
  },
  {
   "cell_type": "code",
   "execution_count": null,
   "id": "0a6e7bd2-cfcc-4073-bbce-7f23f2ae1acb",
   "metadata": {},
   "outputs": [],
   "source": []
  }
 ],
 "metadata": {
  "kernelspec": {
   "display_name": "Python 3 (ipykernel)",
   "language": "python",
   "name": "python3"
  },
  "language_info": {
   "codemirror_mode": {
    "name": "ipython",
    "version": 3
   },
   "file_extension": ".py",
   "mimetype": "text/x-python",
   "name": "python",
   "nbconvert_exporter": "python",
   "pygments_lexer": "ipython3",
   "version": "3.11.9"
  }
 },
 "nbformat": 4,
 "nbformat_minor": 5
}
